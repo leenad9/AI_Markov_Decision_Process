{
 "cells": [
  {
   "cell_type": "markdown",
   "metadata": {},
   "source": [
    "# AI Final 2020 (Part 1)\n",
    "## Leena Dighole"
   ]
  },
  {
   "cell_type": "code",
   "execution_count": null,
   "metadata": {},
   "outputs": [],
   "source": [
    "#Import libraries\n",
    "import numpy as np\n",
    "import pandas as pd"
   ]
  },
  {
   "cell_type": "code",
   "execution_count": null,
   "metadata": {},
   "outputs": [],
   "source": [
    "'''\n",
    "When the C is an optimal configuration, the T(C) will be,\n",
    "T(C) = manhatten distance of the sheep position from target\n",
    "Here,\n",
    "Grid =7*7\n",
    "Target = (6,6)\n",
    "Optimal dog-controlling strategy is to acquire the 'up' and'right' neighboring cells of a sheep cell in order to\n",
    "force sheep to make a random movement in downword and left direction to get cornered at (6,6) target cell.\n",
    "Theconfiguration C will look like,\n",
    "    D\n",
    "D   S\n",
    "\n",
    "\n",
    "'''\n",
    "class Sheep_Dog_bot(object):\n",
    "    def __init__(self,row,col,dim):\n",
    "        self.sheep_row = int(row)\n",
    "        self.sheep_col = int(col)\n",
    "        self.dim = int(dim)\n",
    "        \n",
    "    def board_map(self,dim):\n",
    "        self.board = np.random.choice([0],(self.dim,self.dim))\n",
    "        print(self.board)\n",
    "        self.board[self.dim-1,self.dim-1] =2  #Target location\n",
    "        self.target_row = self.dim-1  #Target corner row\n",
    "        self.target_col = self.dim-1  #Target corner column\n",
    "        return self.board\n",
    "        \n",
    "        \n",
    "    def T_calculation(self,row,col,dim): #manhatten distance from target and given sheep location in optimal configuration\n",
    "        self.rounds = (self.target_row - self.sheep_row) + (self.target_col - self.sheep_col)\n",
    "        print('For given sheep location, the total no of min rounds will be:\\n',self.rounds.values)\n",
    "        return self.rounds.values\n",
    "        "
   ]
  },
  {
   "cell_type": "code",
   "execution_count": null,
   "metadata": {},
   "outputs": [],
   "source": [
    "dim = int(input('Enter the dim of board:'))\n",
    "row= int(input('Enter the row of sheep location on board :'))\n",
    "col = int(input('Enter the column of sheep location on board:'))\n",
    "obj1 = Sheep_Dog_bot(row,col,dim)\n",
    "obj1.T_calculation"
   ]
  },
  {
   "cell_type": "code",
   "execution_count": null,
   "metadata": {},
   "outputs": [],
   "source": []
  },
  {
   "cell_type": "code",
   "execution_count": null,
   "metadata": {},
   "outputs": [],
   "source": []
  },
  {
   "cell_type": "code",
   "execution_count": null,
   "metadata": {},
   "outputs": [],
   "source": []
  }
 ],
 "metadata": {
  "kernelspec": {
   "display_name": "Python 3",
   "language": "python",
   "name": "python3"
  },
  "language_info": {
   "codemirror_mode": {
    "name": "ipython",
    "version": 3
   },
   "file_extension": ".py",
   "mimetype": "text/x-python",
   "name": "python",
   "nbconvert_exporter": "python",
   "pygments_lexer": "ipython3",
   "version": "3.7.6"
  }
 },
 "nbformat": 4,
 "nbformat_minor": 4
}
