{
 "cells": [
  {
   "cell_type": "markdown",
   "metadata": {},
   "source": [
    "# AI Final 2020 (Part 2)\n",
    "## Leena Dighole"
   ]
  },
  {
   "cell_type": "code",
   "execution_count": 1,
   "metadata": {},
   "outputs": [],
   "source": [
    "#Import libraries\n",
    "import numpy as np\n",
    "import pandas as pd"
   ]
  },
  {
   "cell_type": "code",
   "execution_count": null,
   "metadata": {},
   "outputs": [],
   "source": [
    "#Solving Optimal Utility equations for states\n",
    "'''\n",
    "Q 1,2)\n",
    "Aim: Solve Bellman equations for states to get their optimal utilities\n",
    "No of states = 10\n",
    "no of actions =2\n",
    "1. USE = positive reward\n",
    "2. REPLACE = negative reward\n",
    "Optimal Policy: USE action in each state \n",
    "\n",
    "The equations to be solved are:\n",
    "U(New) =101 + beta [U(Used 1)]\n",
    "U(Used 1) = 90 + beta [0.1* U(Used 2) + 0.9*U(Used 1)]\n",
    "U(Used 2) = 80 + beta [0.2* U(Used 3) + 0.8*U(Used 2)]\n",
    "U(Used 3) = 70 + beta [0.3* U(Used 4) + 0.7*U(Used 3)]\n",
    "U(Used 4) = 60 + beta [0.4* U(Used 5) + 0.6*U(Used 4)]\n",
    "U(Used 5) = 50 + beta [0.5* U(Used 6) + 0.5*U(Used 5)]\n",
    "U(Used 6) = 40 + beta [0.6* U(Used 7) + 0.4*U(Used 6)]\n",
    "U(Used 7) = 30 + beta [0.7* U(Used 8) + 0.3*U(Used 7)]\n",
    "U(Used 8) = 20 + beta [0.8* U(Dead) + 0.2*U(Used 8)]\n",
    "U(Dead) = -255 + beta [U(New)]\n",
    "\n",
    "'''"
   ]
  },
  {
   "cell_type": "code",
   "execution_count": 153,
   "metadata": {},
   "outputs": [],
   "source": [
    "class Bellman_equation (object):\n",
    "    \n",
    "    def __init__(self,beta):\n",
    "        self.beta = float(beta)\n",
    "        \n",
    "    def Optimal_utility(self,beta):\n",
    "        self.eq1 = [1, -beta,0,0,0,0,0,0,0,0]  #U(new)\n",
    "        self.eq2 = [0,1-0.9*beta,-0.1*beta,0,0,0,0,0,0,0] #U(Used1)\n",
    "        self.eq3 = [0,0,1-0.8*beta,-0.2*beta,0,0,0,0,0,0] #U(Used2)\n",
    "        self.eq4 = [0,0,0,1-0.7*beta,-0.3*beta,0,0,0,0,0] #U(Used3)\n",
    "        self.eq5 = [0,0,0,0,1-0.6*beta,-0.4*beta,0,0,0,0] #U(Used4)\n",
    "        self.eq6 = [0,0,0,0,0,1-0.5*beta,-0.5*beta,0,0,0] #U(Used5)\n",
    "        self.eq7 = [0,0,0,0,0,0,1-0.4*beta,-0.6*beta,0,0] #U(Used6)\n",
    "        self.eq8 = [0,0,0,0,0,0,0,1-0.3*beta,-0.7*beta,0] #U(Used7)\n",
    "        self.eq9 = [0,0,0,0,0,0,0,0,1-0.2*beta,-0.8*beta] #U(Used8)\n",
    "        self.eq10 = [-beta,0,0,0,0,0,0,0,0,1] #U(Dead)\n",
    "        \n",
    "        self.A = [self.eq1,self.eq2,self.eq3,self.eq4,self.eq5,self.eq6,self.eq7,self.eq8,self.eq9,self.eq10]\n",
    "        self.b = [101,90,80,70,60,50,40,30,20,-255]\n",
    "        self.utilities = np.linalg.solve(self.A,self.b)\n",
    "        print('The optimal utilities are:\\n',self.utilities)\n",
    "        \n",
    "        return self.utilities\n",
    "        \n",
    "        "
   ]
  },
  {
   "cell_type": "code",
   "execution_count": 162,
   "metadata": {},
   "outputs": [
    {
     "name": "stdout",
     "output_type": "stream",
     "text": [
      "Enter the value of discount factor beta:0.9\n",
      "The optimal utilities are:\n",
      " [793.60241684 769.55824093 624.62295308 527.19126035 463.18802344\n",
      " 425.18469662 408.55907365 410.14408729 427.62727575 459.24217516]\n"
     ]
    }
   ],
   "source": [
    "#Q1 and 2\n",
    "beta = float(input('Enter the value of discount factor beta:'))\n",
    "obj1 = Bellman_equation(beta)\n",
    "utility_array =obj1.Optimal_utility(beta)"
   ]
  },
  {
   "cell_type": "code",
   "execution_count": 152,
   "metadata": {},
   "outputs": [
    {
     "name": "stdout",
     "output_type": "stream",
     "text": [
      "The other policy value for comparing optimal policy for different betas is:\n",
      " 459.24217515645876\n"
     ]
    }
   ],
   "source": [
    "#For Q4\n",
    "policy_REPLACE = -255+beta*(utility_array[0])\n",
    "print('The other policy value for comparing optimal policy for different betas is:\\n',policy_REPLACE)"
   ]
  },
  {
   "cell_type": "code",
   "execution_count": 34,
   "metadata": {},
   "outputs": [
    {
     "name": "stdout",
     "output_type": "stream",
     "text": [
      "*** Q3***\n",
      "The value of x which holds equality is:\n",
      " -168.13936214850003\n",
      "The Utility of dead state with beta =0.9 is:\n",
      " 459.24217515600003\n",
      "For x =168, Seller_utility is :\n",
      " 459.38153730450006\n",
      "The seller utility is greater than New state at x=168 and thus this is a maximum rational price for the customers to choose the seller offer\n"
     ]
    }
   ],
   "source": [
    "'''\n",
    "Q 3) Machine  Selling Bot price\n",
    "'''\n",
    "print('*** Q3***')\n",
    "x = (-255+0.9*793.60241684)- (0.9*0.5*(769.55824093+624.62295308))\n",
    "print('The value of x which holds equality is:\\n',x)\n",
    "\n",
    "Utility_dead_state = (-255+0.9*793.60241684)\n",
    "print('The Utility of dead state with beta =0.9 is:\\n',Utility_dead_state)\n",
    "\n",
    "#The 168 cost offer by Machine Selling Bot will be a highest feasible choice as it has max utility \n",
    "Seller_utility = (0.9*0.5*(769.55824093+624.62295308))-168\n",
    "print('For x =168, Seller_utility is :\\n',Seller_utility )\n",
    "print('The seller utility is greater than New state at x=168 and thus this is a maximum rational price for the customers to choose the seller offer')"
   ]
  },
  {
   "cell_type": "code",
   "execution_count": null,
   "metadata": {},
   "outputs": [],
   "source": [
    "'''\n",
    "Q4) Utility values for different beta values\n",
    "1. Enter the value of discount factor beta:0.9\n",
    "The optimal utilities are:\n",
    " [793.60241684 769.55824093 624.62295308 527.19126035 463.18802344\n",
    " 425.18469662 408.55907365 410.14408729 427.62727575 459.24217516]\n",
    " \n",
    "2. Enter the value of discount factor beta:0.99\n",
    "The optimal utilities are:\n",
    " [6301.85419057 6263.48908139 5987.07383708 5885.41089956 5847.88264702\n",
    " 5844.04129972 5861.09263911 5892.42416502 5934.16188746 5983.83564867]\n",
    " \n",
    "3. Enter the value of discount factor beta:0.999\n",
    "The optimal utilities are:\n",
    " [60714.2986248  60673.9725974  60380.41876954 60282.22266729\n",
    " 60249.79765116 60250.42277041 60270.94413732 60304.76286294\n",
    " 60348.09871717 60398.58432618]\n",
    " \n",
    "33.Enter the value of discount factor beta:0.9999\n",
    "The optimal utilities are:\n",
    " [604768.85507875 604728.32791154 604433.02670933 604335.23344336\n",
    " 604303.34199869 604304.41794179 604325.28091167 604359.33853092\n",
    " 604402.82278485 604453.37819324]\n",
    " \n",
    "4. Enter the value of discount factor beta:0\n",
    "The optimal utilities are:\n",
    " [ 101.   90.   80.   70.   60.   50.   40.   30.   20. -255.]\n",
    " \n",
    "5. Enter the value of discount factor beta:0.1\n",
    "The optimal utilities are:\n",
    " [ 110.98751561   99.87515605   88.63920085   77.40323919   66.16708153\n",
    "   54.92641589   43.60190185   30.9637629     0.49785727 -243.90124844]\n",
    "   \n",
    "6. Enter the value of discount factor beta:0.3\n",
    "The optimal utilities are:\n",
    " [ 139.37952327  127.93174422  113.00577595   98.07316203   83.08664449\n",
    "   67.75873735   50.63284496   25.31613092  -33.15390886 -213.18614302]\n",
    "   \n",
    "7. Enter the value of discount factor beta:0.5\n",
    "The optimal utilities are:\n",
    " [ 189.88706001  177.77412001  155.51532014  133.09192086  110.06499039\n",
    "   85.22746637   55.68239912   15.15306431  -48.91398667 -160.05647   ]\n",
    "   \n",
    "8. Enter the value of discount factor beta:0.7\n",
    "The optimal utilities are:\n",
    " [303.91524631 289.8789233  246.50288032 203.29476673 160.38252873\n",
    " 117.93523809  76.16544217  35.33123419  -4.26188773 -42.25932758]\n",
    " \n",
    "9. Enter the value of discount factor beta:0.8\n",
    "The optimal utilities are:\n",
    " [437.44089951 420.55112439 346.92893536 280.59010456 222.74852503\n",
    " 174.46635317 136.69952975 110.32433382  96.15445304  94.95271961]\n",
    "   \n",
    "\n",
    "'''"
   ]
  },
  {
   "cell_type": "code",
   "execution_count": null,
   "metadata": {},
   "outputs": [],
   "source": [
    "'''\n",
    "Bonus Question:\n",
    "The value of 1264.518 for new machine is a marginal break even cost above which we will get net profit and \n",
    "below which we get net loss\n",
    "This value is calculated by trial and error and making sure that the sum adds upto 0 (round of to 2 decimal places)\n",
    "Above this value of new machine, the net profit is observed\n",
    "'''"
   ]
  },
  {
   "cell_type": "code",
   "execution_count": 138,
   "metadata": {},
   "outputs": [],
   "source": [
    "class Bellman_equation_1 (object):\n",
    "    \n",
    "    def __init__(self,beta):\n",
    "        self.beta = float(beta)\n",
    "        \n",
    "    def Optimal_utility(self,beta):\n",
    "        self.eq1 = [1, -beta,0,0,0,0,0,0,0,0]  #U(new)\n",
    "        self.eq2 = [0,1-0.9*beta,-0.1*beta,0,0,0,0,0,0,0] #U(Used1)\n",
    "        self.eq3 = [0,0,1-0.8*beta,-0.2*beta,0,0,0,0,0,0] #U(Used2)\n",
    "        self.eq4 = [0,0,0,1-0.7*beta,-0.3*beta,0,0,0,0,0] #U(Used3)\n",
    "        self.eq5 = [0,0,0,0,1-0.6*beta,-0.4*beta,0,0,0,0] #U(Used4)\n",
    "        self.eq6 = [0,0,0,0,0,1-0.5*beta,-0.5*beta,0,0,0] #U(Used5)\n",
    "        self.eq7 = [0,0,0,0,0,0,1-0.4*beta,-0.6*beta,0,0] #U(Used6)\n",
    "        self.eq8 = [0,0,0,0,0,0,0,1-0.3*beta,-0.7*beta,0] #U(Used7)\n",
    "        self.eq9 = [0,0,0,0,0,0,0,0,1-0.2*beta,-0.8*beta] #U(Used8)\n",
    "        self.eq10 = [-beta,0,0,0,0,0,0,0,0,1] #U(Dead)\n",
    "        \n",
    "        self.A = [self.eq1,self.eq2,self.eq3,self.eq4,self.eq5,self.eq6,self.eq7,self.eq8,self.eq9,self.eq10]\n",
    "        self.b = [101,90,80,70,60,50,40,30,20,-1264.518]\n",
    "        self.utilities = np.linalg.solve(self.A,self.b)\n",
    "        print('The optimal utilities are:\\n',self.utilities)\n",
    "        \n",
    "        return self.utilities\n",
    "        "
   ]
  },
  {
   "cell_type": "code",
   "execution_count": 160,
   "metadata": {},
   "outputs": [
    {
     "name": "stdout",
     "output_type": "stream",
     "text": [
      "Enter the value of discount factor beta:0.9\n",
      "The optimal utilities are:\n",
      " [ 704.37276783  670.41418648  415.31883813  201.60708154   17.01711174\n",
      " -144.92257945 -288.23870821 -415.69032085 -529.29195908 -630.58250895]\n"
     ]
    }
   ],
   "source": [
    "beta = float(input('Enter the value of discount factor beta:'))\n",
    "obj2 = Bellman_equation_1(beta)\n",
    "utility_array_1 =obj2.Optimal_utility(beta)"
   ]
  },
  {
   "cell_type": "code",
   "execution_count": 161,
   "metadata": {},
   "outputs": [
    {
     "data": {
      "text/plain": [
       "0.0"
      ]
     },
     "execution_count": 161,
     "metadata": {},
     "output_type": "execute_result"
    }
   ],
   "source": [
    "#Rounding of to 2 decimal places\n",
    "#The 1264.518 cost of new machine makes it a break even cost\n",
    "utility_array_1.sum().round(2)"
   ]
  },
  {
   "cell_type": "code",
   "execution_count": null,
   "metadata": {},
   "outputs": [],
   "source": [
    "'''\n",
    "BUNUS part 2\n",
    "Enter the value of discount factor beta:0.9\n",
    "The optimal utilities are:\n",
    " [ 704.37276783  670.41418648  415.31883813  201.60708154   17.01711174\n",
    " -144.92257945 -288.23870821 -415.69032085 -529.29195908 -630.58250895]\n",
    "'''"
   ]
  },
  {
   "cell_type": "code",
   "execution_count": null,
   "metadata": {},
   "outputs": [],
   "source": []
  },
  {
   "cell_type": "code",
   "execution_count": null,
   "metadata": {},
   "outputs": [],
   "source": []
  },
  {
   "cell_type": "code",
   "execution_count": null,
   "metadata": {},
   "outputs": [],
   "source": []
  },
  {
   "cell_type": "code",
   "execution_count": null,
   "metadata": {},
   "outputs": [],
   "source": []
  },
  {
   "cell_type": "code",
   "execution_count": null,
   "metadata": {},
   "outputs": [],
   "source": []
  },
  {
   "cell_type": "code",
   "execution_count": null,
   "metadata": {},
   "outputs": [],
   "source": []
  }
 ],
 "metadata": {
  "kernelspec": {
   "display_name": "Python 3",
   "language": "python",
   "name": "python3"
  },
  "language_info": {
   "codemirror_mode": {
    "name": "ipython",
    "version": 3
   },
   "file_extension": ".py",
   "mimetype": "text/x-python",
   "name": "python",
   "nbconvert_exporter": "python",
   "pygments_lexer": "ipython3",
   "version": "3.7.6"
  }
 },
 "nbformat": 4,
 "nbformat_minor": 4
}
